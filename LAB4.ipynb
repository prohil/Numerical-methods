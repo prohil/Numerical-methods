{
 "cells": [
  {
   "cell_type": "markdown",
   "metadata": {},
   "source": [
    "# Антонов Алексей <h1> \n",
    "# Вариант 1 <h5>"
   ]
  },
  {
   "cell_type": "code",
   "execution_count": 275,
   "metadata": {},
   "outputs": [],
   "source": [
    "import numpy as np\n",
    "from math import cos, sin, pi, pow\n",
    "import matplotlib.pyplot as plt\n",
    "import scipy.linalg as sp\n"
   ]
  },
  {
   "cell_type": "markdown",
   "metadata": {},
   "source": [
    "<img src=\"2.jpg\"/>\n",
    "<img src=\"1.jpg\"/>"
   ]
  },
  {
   "cell_type": "code",
   "execution_count": 276,
   "metadata": {},
   "outputs": [],
   "source": [
    "A = np.matrix([[79.2, 0, 35, 19.8, 24], [39.6, 85, 0, 19.8, 25], [19.8, -15, 45, 0, 10], [49.5, 18, 20, 89.1, 0], [9.9, 15, 20, -49.5, 95]])\n",
    "b = np.array([86, 55, 77, 5, -64])"
   ]
  },
  {
   "cell_type": "code",
   "execution_count": 277,
   "metadata": {},
   "outputs": [
    {
     "data": {
      "text/plain": [
       "array([ 1.11111111,  1.        ,  2.        , -1.21212121, -2.        ])"
      ]
     },
     "execution_count": 277,
     "metadata": {},
     "output_type": "execute_result"
    }
   ],
   "source": [
    "#Задача 4.1\n",
    "#1. Решим через стандартую библиотечную функцию numpy\n",
    "x1 = np.linalg.solve(A, b)\n",
    "x1"
   ]
  },
  {
   "cell_type": "code",
   "execution_count": 278,
   "metadata": {},
   "outputs": [
    {
     "name": "stdout",
     "output_type": "stream",
     "text": [
      "[[ 0.         -0.         -0.44191919 -0.25       -0.3030303 ]\n",
      " [-0.46588235  0.         -0.         -0.23294118 -0.29411765]\n",
      " [-0.44        0.33333333  0.         -0.         -0.22222222]\n",
      " [-0.55555556 -0.2020202  -0.22446689  0.         -0.        ]\n",
      " [-0.10421053 -0.15789474 -0.21052632  0.52105263  0.        ]]\n",
      "[ 1.08585859  0.64705882  1.71111111  0.05611672 -0.67368421]\n",
      "Достаточное условие сходимости итерационных методов\n",
      "0.9955555555555555  < 1\n"
     ]
    }
   ],
   "source": [
    "#2. Преобразуем систему Ax=b к виду x=Bx+c, удобному для итераций\n",
    "gen = lambda i, j, A: -A[i, j] / A[i, i] if j != i else 0\n",
    "\n",
    "B = np.asarray([ [ gen(i, j, A) for j in range(A.shape[0])] for i in range(A.shape[0]) ])\n",
    "c = np.asarray([ b[i] / A[i, i] for i in range(A.shape[0]) ])\n",
    "\n",
    "print(np.asmatrix(B))\n",
    "print(c)\n",
    "\n",
    "# Достаточное условие сходимости итерационных методов\n",
    "print('Достаточное условие сходимости итерационных методов')\n",
    "print(np.linalg.norm(B, ord=np.inf), ' < 1')"
   ]
  },
  {
   "cell_type": "code",
   "execution_count": 279,
   "metadata": {},
   "outputs": [],
   "source": [
    "#3. Метод Зейделя\n",
    "def seidel(_B, _c, _x, iterations = 10, eps = 1e-6):\n",
    "    for i in range (1, iterations + 1):\n",
    "        temp_x = _x\n",
    "        _x = np.dot(_B, temp_x) + _c\n",
    "        if np.linalg.norm(_x - temp_x, ord = np.inf) < eps:\n",
    "            return _x, i\n",
    "    return _x, i"
   ]
  },
  {
   "cell_type": "code",
   "execution_count": 280,
   "metadata": {},
   "outputs": [
    {
     "name": "stdout",
     "output_type": "stream",
     "text": [
      "Gauss x = [ 1.11111111  1.          2.         -1.21212121 -2.        ]\n",
      "Seidel x with zero vector = [ 1.10202626  1.00212887  2.00114403 -1.20036281 -1.99471681] , iterations =  10\n",
      "Norm with zero vector =  0.011758399954981735\n",
      "Seidel x with [10, 10, 10, 10, 10] vector = [ 1.10696407  0.98825508  2.05350676 -1.22745758 -1.93243189] , iterations =  10\n",
      "Norm with [10, 10, 10, 10, 10] vector =  0.06756811195307577\n"
     ]
    }
   ],
   "source": [
    "#4. Начальное приближение нулевым вектором\n",
    "x2, i = seidel(B, c, np.zeros(c.shape))\n",
    "print('Gauss x =', x1)\n",
    "print('Seidel x with zero vector =', x2, ', iterations = ', i)\n",
    "print('Norm with zero vector = ', np.linalg.norm(x1 - x2, ord=np.inf))\n",
    "\n",
    "#5. Другое начальное приближение\n",
    "x3, i = seidel(B, c, np.array([10, 10, 10, 10, 10]))\n",
    "print('Seidel x with [10, 10, 10, 10, 10] vector =', x3, ', iterations = ', i)\n",
    "print('Norm with [10, 10, 10, 10, 10] vector = ', np.linalg.norm(x1 - x3, ord=np.inf))\n",
    "\n",
    "# Первый случай точнее, так как взято более близкое начальное приближение"
   ]
  },
  {
   "cell_type": "code",
   "execution_count": 281,
   "metadata": {},
   "outputs": [
    {
     "name": "stdout",
     "output_type": "stream",
     "text": [
      "Gauss x = [ 1.11111111  1.          2.         -1.21212121 -2.        ]\n",
      "Seidel x with zero vector = [ 1.11111054  1.00000052  2.00000099 -1.21212107 -1.99999995] , iterations =  28\n",
      "Norm with zero vector =  0.011758399954981735\n"
     ]
    }
   ],
   "source": [
    "#Задача 4.2\n",
    "x4, i = seidel(B, c, np.zeros(c.shape), iterations = 1000)\n",
    "print('Gauss x =', x1)\n",
    "print('Seidel x with zero vector =', x4, ', iterations = ', i)\n",
    "print('Norm with zero vector = ', np.linalg.norm(x1 - x2, ord=np.inf))"
   ]
  },
  {
   "cell_type": "markdown",
   "metadata": {},
   "source": [
    "<img src=\"3.jpg\"/>\n",
    "<img src=\"4.jpg\"/>"
   ]
  },
  {
   "cell_type": "code",
   "execution_count": 282,
   "metadata": {},
   "outputs": [
    {
     "name": "stdout",
     "output_type": "stream",
     "text": [
      "[0.6        0.65901699 0.93778525 1.15901699 1.30105652 1.35\n",
      " 1.30105652 1.15901699 0.93778525 0.65901699 0.6       ]\n",
      "[1 2 1]\n"
     ]
    },
    {
     "data": {
      "image/png": "[encoded data removed]",
      "text/plain": [
       "<Figure size 432x288 with 1 Axes>"
      ]
     },
     "metadata": {
      "needs_background": "light"
     },
     "output_type": "display_data"
    },
    {
     "name": "stdout",
     "output_type": "stream",
     "text": [
      "Seidel x = [2.13204346 2.96972865 1.85281578] , iterations =  16\n"
     ]
    }
   ],
   "source": [
    "#Задача 4.4\n",
    "B = lambda t: np.array([[0.2, 0.3, -0.1], \n",
    "                   [0.1, -0.25, cos(0.5 * pi * t)],\n",
    "                   [sin(10 * pi * t), 0.1, 0.3]]) \n",
    "B_norms = np.asarray([ np.linalg.norm(B(t / 10), ord=np.inf) for t in range (-10, 11, 2) ])\n",
    "c_new = np.array([1, 2, 1])\n",
    "t = np.arange(-1, 1.1, 0.2)\n",
    "\n",
    "print(B_norms)\n",
    "print(c_new)\n",
    "plot = plt.gca()\n",
    "plot.bar(t, B_norms, width=0.1)\n",
    "plot.set_xticks(t)\n",
    "plt.show()\n",
    "\n",
    "#Соотв-но, берем t = 0.4\n",
    "x5, i = seidel(B(0.4), c_new, np.zeros(c_new.shape), iterations = 1000, eps = 1e-5)\n",
    "print('Seidel x =', x5, ', iterations = ', i)"
   ]
  },
  {
   "cell_type": "markdown",
   "metadata": {},
   "source": [
    "<img src=\"5.jpg\"/>\n",
    "<img src=\"6.jpg\"/>"
   ]
  },
  {
   "cell_type": "code",
   "execution_count": 283,
   "metadata": {},
   "outputs": [
    {
     "data": {
      "text/plain": [
       "(array([[1000.,  350.,    0.,    0.,    0.,    0.,    0.,    0.,   75.],\n",
       "        [   0., 1000.,  350.,    0.,    0.,    0.,    0.,    0.,    0.],\n",
       "        [   0.,    0., 1000.,  350.,    0.,    0.,    0.,    0.,    0.],\n",
       "        [   0.,    0.,    0., 1000.,  350.,    0.,    0.,    0.,    0.],\n",
       "        [   0.,    0.,    0.,    0., 1000.,  350.,    0.,    0.,    0.],\n",
       "        [   0.,    0.,    0.,    0.,    0., 1000.,  350.,    0.,    0.],\n",
       "        [   0.,    0.,    0.,    0.,    0.,    0., 1000.,  350.,    0.],\n",
       "        [   0.,    0.,    0.,    0.,    0.,    0.,    0., 1000.,  350.],\n",
       "        [   0.,    0.,    0.,    0.,    0.,    0.,    0.,    0., 1000.]]),\n",
       " array([  1.,   8.,  27.,  64., 125., 216., 343., 512., 729.]))"
      ]
     },
     "execution_count": 283,
     "metadata": {},
     "output_type": "execute_result"
    }
   ],
   "source": [
    "#Задача 4.9\n",
    "n = 50\n",
    "A = 1000 * np.eye(n, n) + 350 * np.eye(n, n, k = 1) + 75 * np.eye(n, n, k = 8) \n",
    "b = np.array([pow(i, 3) for i in range(1, n + 1)])\n",
    "A[:9, :9], b[:9]"
   ]
  },
  {
   "cell_type": "code",
   "execution_count": 284,
   "metadata": {},
   "outputs": [
    {
     "data": {
      "text/plain": [
       "1.4210854715202004e-14"
      ]
     },
     "execution_count": 284,
     "metadata": {},
     "output_type": "execute_result"
    }
   ],
   "source": [
    "def Iteration_method(A, b, x = b, eps=1e-9):\n",
    "    P = np.diag(A) * np.eye(n)\n",
    "    for i in range(10000):\n",
    "        r = b - A.dot(x)\n",
    "        z = sp.solve_triangular(P, r, lower=True)\n",
    "        x = x + z\n",
    "        if np.linalg.norm(z - x, ord=np.inf) < eps:\n",
    "            return x\n",
    "    return x\n",
    "np.linalg.norm(Iteration_method(A, b) - np.linalg.solve(A, b), ord = np.inf)"
   ]
  }
 ],
 "metadata": {
  "celltoolbar": "Raw Cell Format",
  "kernelspec": {
   "display_name": "Python 3",
   "language": "python",
   "name": "python3"
  },
  "language_info": {
   "codemirror_mode": {
    "name": "ipython",
    "version": 3
   },
   "file_extension": ".py",
   "mimetype": "text/x-python",
   "name": "python",
   "nbconvert_exporter": "python",
   "pygments_lexer": "ipython3",
   "version": "3.7.3"
  }
 },
 "nbformat": 4,
 "nbformat_minor": 2
}
