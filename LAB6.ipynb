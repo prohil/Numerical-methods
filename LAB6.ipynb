{
 "cells": [
  {
   "cell_type": "markdown",
   "metadata": {},
   "source": [
    "# Антонов Алексей <h1> \n",
    "# Вариант 1 <h5>"
   ]
  },
  {
   "cell_type": "markdown",
   "metadata": {},
   "source": [
    "<img src=\"1.jpg\"/>\n",
    "<img src=\"2.jpg\"/>"
   ]
  },
  {
   "cell_type": "code",
   "execution_count": 264,
   "metadata": {},
   "outputs": [],
   "source": [
    "import numpy as np\n",
    "import math \n",
    "import matplotlib.pyplot as plt\n",
    "import scipy\n",
    "import scipy.integrate as integrate\n",
    "from math import sin"
   ]
  },
  {
   "cell_type": "code",
   "execution_count": 265,
   "metadata": {},
   "outputs": [
    {
     "name": "stdout",
     "output_type": "stream",
     "text": [
      "24.4\n",
      "3.9246449285119986\n"
     ]
    }
   ],
   "source": [
    "#1. Аналитическое значение интеграла\n",
    "def P(x):\n",
    "    return c[0] + c[1] * x + c[2] * x**2 + c[3] * x ** 3 + c[4] * x**4\n",
    "print(P(2))\n",
    "c = [0.6, 1.3, 0, 1.2, 1.9]\n",
    "a = 1\n",
    "b = 1.44\n",
    "value, err = integrate.quad(P, a, b)\n",
    "print(value)"
   ]
  },
  {
   "cell_type": "code",
   "execution_count": 266,
   "metadata": {},
   "outputs": [
    {
     "name": "stdout",
     "output_type": "stream",
     "text": [
      "Значение для метода трапеций:  4.229463265279999\n",
      "Абсолютная погрешность: 0.3048183367680002\n",
      "Значение для метода Симпсона:  3.9249060458666656\n",
      "Абсолютная погрешность: 0.00026111735466693986\n"
     ]
    }
   ],
   "source": [
    "#2. Вычислить значение интеграла по формулам трапеций и Симпсона, считая отрезок [1,1.44] элементарным отрезком интегрирования.\n",
    "#3. Найти абсолютные погрешности результатов.\n",
    "trapezoid = lambda f, a, b: (b - a) * (f(a) + f(b)) / 2\n",
    "simpson = lambda f, a, b: (b - a) * (f(a) + 4 * f((a + b) / 2) + f(b)) / 6\n",
    "print ('Значение для метода трапеций: ', trapezoid(P, a, b))\n",
    "print('Абсолютная погрешность:', abs(trapezoid(P, a, b) - value))\n",
    "print ('Значение для метода Симпсона: ', simpson(P, a, b))\n",
    "print('Абсолютная погрешность:', abs(simpson(P, a, b) - value))"
   ]
  },
  {
   "cell_type": "markdown",
   "metadata": {},
   "source": [
    "<img src=\"11.jpg\"/>"
   ]
  },
  {
   "cell_type": "code",
   "execution_count": 267,
   "metadata": {},
   "outputs": [
    {
     "name": "stdout",
     "output_type": "stream",
     "text": [
      "Шаги для метода трапеций: 0.006878271579782677\n",
      "Количество шагов: 63.969559052203344\n",
      "Шаги для метода Симпсона: 0.20787819352150236\n",
      "Количество шагов: 2.1166241275542332\n"
     ]
    }
   ],
   "source": [
    "#4.   Используя   выражение   для   остаточных   членов   интегрирования, оценить шаги интегрирования,\n",
    "#при которых величина погрешности каждой квадратурной формулы будет меньше 0.0001.\n",
    "# 22.8 * x**2 + 7.2 * x - Производная второго порядка\n",
    "M2 = 57.6461 # max для производной второго порядка\n",
    "M4 = 72.864 # max = производной четвертого порядка\n",
    "h_trap = math.sqrt((0.0001 * 12) / (M2 * (b - a)))\n",
    "h_simp = math.pow((0.0001 * 2880) / (M4 * (b - a)), 1 / 3) #взял более грубую оценку\n",
    "print('Шаги для метода трапеций:', h_trap)\n",
    "print('Количество шагов:', (b - a) / h_trap)\n",
    "print('Шаги для метода Симпсона:', h_simp)\n",
    "print('Количество шагов:', (b - a) / h_simp)"
   ]
  },
  {
   "cell_type": "markdown",
   "metadata": {},
   "source": [
    "<img src=\"11.jpg\"/>"
   ]
  },
  {
   "cell_type": "code",
   "execution_count": 268,
   "metadata": {},
   "outputs": [
    {
     "name": "stdout",
     "output_type": "stream",
     "text": [
      "Значение для метода трапеций (составной):  3.9247196019864\n",
      "Абсолютная погрешность: 7.46734744012656e-05\n",
      "Значение для метода Симпсона (составной):  3.924661248346663\n",
      "Абсолютная погрешность: 1.6319834664546562e-05\n"
     ]
    }
   ],
   "source": [
    "#5. Вычислить значения интеграла по составной квадратурной формуле с найденным шагом\n",
    "#6. Найти абсолютные погрешности результатов. \n",
    "n=64\n",
    "def trapezoid_comp(f, a, b, n):\n",
    "    h = (b-a) / n\n",
    "    x = np.arange(a, b + h, h)\n",
    "    return h * ( (f(x[0]) + f(x[n])) / 2 + sum([f(x[i]) for i in range(1, n)]))\n",
    "\n",
    "def simpson_comp(f, a, b, n):\n",
    "    h = (b-a) / n\n",
    "    x = np.arange(a, b + h, h)\n",
    "    gen = lambda f, x, i: 2 * f(x[i]) if i % 2 == 0 else 4 * f(x[i])\n",
    "    return (h / 3) * (f(a) + sum([gen(f, x, i) for i in range(1, n)]) + f(b))\n",
    "\n",
    "print ('Значение для метода трапеций (составной): ', trapezoid_comp(P, a, b, n))\n",
    "print('Абсолютная погрешность:', abs(trapezoid_comp(P, a, b, n) - value))\n",
    "print ('Значение для метода Симпсона (составной): ', simpson_comp(P, a, b, 4))\n",
    "print('Абсолютная погрешность:', abs(simpson_comp(P, a, b, 4) - value))"
   ]
  },
  {
   "cell_type": "markdown",
   "metadata": {},
   "source": [
    "<img src=\"3.jpg\"/>\n",
    "<img src=\"4.jpg\"/>\n",
    "<img src=\"12.jpg\"/>"
   ]
  },
  {
   "cell_type": "code",
   "execution_count": 269,
   "metadata": {},
   "outputs": [
    {
     "name": "stdout",
     "output_type": "stream",
     "text": [
      "Аналитическое значение интеграла =  2.2183333333333333\n",
      "Значение интеграла, применяя формулу правых прямоугольников =  3.509375\n",
      "Погрешность =  3.2\n"
     ]
    }
   ],
   "source": [
    "def Pk(x):\n",
    "    return c[0] + c[1] * x + c[2] * x**2 + c[3] * x ** 3 + c[4] * x**4 + c[5] * x**5\n",
    "\n",
    "def right_rect(x, a, b):\n",
    "    x = np.arange(a, b + h, h)\n",
    "    return h * sum([Pk(x[i]) for i in range(1, x.shape[0])])\n",
    "\n",
    "c = [1, 0.9, 0.8, 0.7, 0.8, 1]\n",
    "a = 0\n",
    "b = 1\n",
    "value, err = integrate.quad(Pk, a, b)\n",
    "h = (b - a) / 2\n",
    "M1 = 12.8\n",
    "\n",
    "print('Аналитическое значение интеграла = ', value)\n",
    "print('Значение интеграла, применяя формулу правых прямоугольников = ', right_rect(x, a, b))\n",
    "print('Погрешность = ', M1 * h**2)"
   ]
  },
  {
   "cell_type": "markdown",
   "metadata": {},
   "source": [
    "<img src=\"5.jpg\"/>\n",
    "<img src=\"6.jpg\"/>"
   ]
  },
  {
   "cell_type": "code",
   "execution_count": 271,
   "metadata": {},
   "outputs": [
    {
     "name": "stdout",
     "output_type": "stream",
     "text": [
      "Шаги для метода трапеций: 0.00010540925533894598\n",
      "Количество шагов: 9486.832980505138\n",
      "0.8047764893437559\n",
      "Значение для метода трапеций (составной):  0.8047764796604865\n",
      "Абсолютная погрешность: 9.68326940853359e-09\n"
     ]
    },
    {
     "data": {
      "image/png": "[encoded data removed]",
      "text/plain": [
       "<Figure size 432x288 with 1 Axes>"
      ]
     },
     "metadata": {
      "needs_background": "light"
     },
     "output_type": "display_data"
    }
   ],
   "source": [
    "def f(t):\n",
    "    return sin (t**2)\n",
    "a = 0\n",
    "x1 = 0\n",
    "x2 = 2\n",
    "M2 = 10.8\n",
    "eps = 1e-8\n",
    "value, err = integrate.quad(f, 0, 2)\n",
    "h_trap = math.sqrt((eps * 12) / (M2 * (b - a)))\n",
    "print('Шаги для метода трапеций:', h_trap)\n",
    "print('Количество шагов:', (b - a) / h_trap)\n",
    "n = 9487\n",
    "print(value)\n",
    "print ('Значение для метода трапеций (составной): ', trapezoid_comp(f, a, x2, n))\n",
    "print('Абсолютная погрешность:', abs(trapezoid_comp(f, a, x2, n) - value))\n",
    "\n",
    "arr = np.linspace(eps, 2, 30)\n",
    "n = 10000\n",
    "G = [trapezoid_comp(f, a, b, n) for b in arr]\n",
    "plt.plot(arr,G)\n",
    "plt.title(\"G (x)\")\n",
    "plt.xlabel(\"X\")\n",
    "plt.ylabel(\"G\");"
   ]
  },
  {
   "cell_type": "markdown",
   "metadata": {},
   "source": [
    "<img src=\"7.jpg\"/>\n",
    "<img src=\"13.jpg\"/>"
   ]
  },
  {
   "cell_type": "code",
   "execution_count": 308,
   "metadata": {},
   "outputs": [
    {
     "name": "stdout",
     "output_type": "stream",
     "text": [
      "3.9246449285119986\n",
      "Абсолютная погрешность при  1  узлах =  0.15201749235199946\n",
      "Абсолютная погрешность при  2  узлах =  0.00017407823644433051\n",
      "Абсолютная погрешность при  3  узлах =  2.284838984678572e-11\n",
      "Абсолютная погрешность при  4  узлах =  8.881784197001252e-16\n"
     ]
    }
   ],
   "source": [
    "#Аналитическое значение интеграла\n",
    "def P(x):\n",
    "    return c[0] + c[1] * x + c[2] * x**2 + c[3] * x ** 3 + c[4] * x**4\n",
    "c = [0.6, 1.3, 0, 1.2, 1.9]\n",
    "a = 1\n",
    "b = 1.44\n",
    "value, err = integrate.quad(P, a, b)\n",
    "print(value)\n",
    "\n",
    "A = [[2],[1, 1],[0.55555555555556, 0.88888888888888, 0.55555555555556] , \n",
    "     [0.347854845137454, 0.652145154862546, 0.652145154862546, 0.347854845137454]]\n",
    "t = [[0], [-0.577350269189626, 0.577350269189626], [-0.77459666929954, 0, 0.77459666929954], \n",
    "     [-0.861136311594052, -0.339981043584856, 0.339981043584856, 0.861136311594052]]\n",
    "\n",
    "def Gauss(n, a, b, f):\n",
    "        return ((b - a) / 2) * sum([\n",
    "            A[n-1][i] * f((a + b) / 2 + ((b - a) / 2) * t[n-1][i]) \n",
    "             for i in range(n)])\n",
    "errors = np.abs(np.asarray([Gauss(n, a, b, P) for n in range(1,5)]) - value)\n",
    "for i in range(4):\n",
    "    print('Абсолютная погрешность при ', i+1, ' узлах = ',\n",
    "          errors[i])"
   ]
  },
  {
   "cell_type": "code",
   "execution_count": 309,
   "metadata": {},
   "outputs": [
    {
     "data": {
      "image/png": "[encoded data removed]",
      "text/plain": [
       "<Figure size 432x288 with 1 Axes>"
      ]
     },
     "metadata": {
      "needs_background": "light"
     },
     "output_type": "display_data"
    }
   ],
   "source": [
    "plot = plt.gca()\n",
    "ticks = [i for i in range (1, 5)]\n",
    "plot.bar(ticks, errors, width=0.4)\n",
    "plot.set_xticks(ticks)\n",
    "plt.show()"
   ]
  },
  {
   "cell_type": "code",
   "execution_count": 316,
   "metadata": {},
   "outputs": [
    {
     "name": "stdout",
     "output_type": "stream",
     "text": [
      "0.43999999999999995\n"
     ]
    },
    {
     "ename": "TypeError",
     "evalue": "'int' object is not subscriptable",
     "output_type": "error",
     "traceback": [
      "\u001b[1;31m---------------------------------------------------------------------------\u001b[0m",
      "\u001b[1;31mTypeError\u001b[0m                                 Traceback (most recent call last)",
      "\u001b[1;32m<ipython-input-316-0c994b326aa1>\u001b[0m in \u001b[0;36m<module>\u001b[1;34m\u001b[0m\n\u001b[0;32m     13\u001b[0m         \u001b[0mprint\u001b[0m\u001b[1;33m(\u001b[0m\u001b[0mintegrate\u001b[0m\u001b[1;33m.\u001b[0m\u001b[0mquad\u001b[0m\u001b[1;33m(\u001b[0m\u001b[0mPolinom\u001b[0m\u001b[1;33m,\u001b[0m \u001b[0ma\u001b[0m\u001b[1;33m,\u001b[0m \u001b[0mb\u001b[0m\u001b[1;33m)\u001b[0m\u001b[1;33m[\u001b[0m\u001b[1;36m0\u001b[0m\u001b[1;33m]\u001b[0m\u001b[1;33m)\u001b[0m\u001b[1;33m\u001b[0m\u001b[1;33m\u001b[0m\u001b[0m\n\u001b[0;32m     14\u001b[0m         print(\"N = \", N+1, \"Многочлен = t^\",j + 1, \n\u001b[1;32m---> 15\u001b[1;33m               \"Error = \",  Gauss_polinom(N+1, a, b, Polinom, j) - func(b,j+1)/(j+1) + func(a,j+1)/(j+1))\n\u001b[0m\u001b[0;32m     16\u001b[0m         \u001b[0mt\u001b[0m\u001b[1;33m+=\u001b[0m\u001b[1;36m1\u001b[0m\u001b[1;33m\u001b[0m\u001b[1;33m\u001b[0m\u001b[0m\n\u001b[0;32m     17\u001b[0m \u001b[1;33m\u001b[0m\u001b[0m\n",
      "\u001b[1;32m<ipython-input-316-0c994b326aa1>\u001b[0m in \u001b[0;36mGauss_polinom\u001b[1;34m(n, a, b, f, m)\u001b[0m\n\u001b[0;32m      5\u001b[0m         return ((b - a) / 2) * sum([\n\u001b[0;32m      6\u001b[0m             \u001b[0mA\u001b[0m\u001b[1;33m[\u001b[0m\u001b[0mn\u001b[0m\u001b[1;33m-\u001b[0m\u001b[1;36m1\u001b[0m\u001b[1;33m]\u001b[0m\u001b[1;33m[\u001b[0m\u001b[0mi\u001b[0m\u001b[1;33m]\u001b[0m \u001b[1;33m*\u001b[0m \u001b[0mf\u001b[0m\u001b[1;33m(\u001b[0m\u001b[1;33m(\u001b[0m\u001b[0ma\u001b[0m \u001b[1;33m+\u001b[0m \u001b[0mb\u001b[0m\u001b[1;33m)\u001b[0m \u001b[1;33m/\u001b[0m \u001b[1;36m2\u001b[0m \u001b[1;33m+\u001b[0m \u001b[1;33m(\u001b[0m\u001b[1;33m(\u001b[0m\u001b[0mb\u001b[0m \u001b[1;33m-\u001b[0m \u001b[0ma\u001b[0m\u001b[1;33m)\u001b[0m \u001b[1;33m/\u001b[0m \u001b[1;36m2\u001b[0m\u001b[1;33m)\u001b[0m \u001b[1;33m*\u001b[0m \u001b[0mt\u001b[0m\u001b[1;33m[\u001b[0m\u001b[0mn\u001b[0m\u001b[1;33m-\u001b[0m\u001b[1;36m1\u001b[0m\u001b[1;33m]\u001b[0m\u001b[1;33m[\u001b[0m\u001b[0mi\u001b[0m\u001b[1;33m]\u001b[0m\u001b[1;33m,\u001b[0m \u001b[0mm\u001b[0m\u001b[1;33m)\u001b[0m\u001b[1;33m\u001b[0m\u001b[1;33m\u001b[0m\u001b[0m\n\u001b[1;32m----> 7\u001b[1;33m              for i in range(n)])\n\u001b[0m\u001b[0;32m      8\u001b[0m \u001b[1;33m\u001b[0m\u001b[0m\n\u001b[0;32m      9\u001b[0m \u001b[0mt\u001b[0m\u001b[1;33m=\u001b[0m\u001b[1;36m0\u001b[0m\u001b[1;33m\u001b[0m\u001b[1;33m\u001b[0m\u001b[0m\n",
      "\u001b[1;32m<ipython-input-316-0c994b326aa1>\u001b[0m in \u001b[0;36m<listcomp>\u001b[1;34m(.0)\u001b[0m\n\u001b[0;32m      5\u001b[0m         return ((b - a) / 2) * sum([\n\u001b[0;32m      6\u001b[0m             \u001b[0mA\u001b[0m\u001b[1;33m[\u001b[0m\u001b[0mn\u001b[0m\u001b[1;33m-\u001b[0m\u001b[1;36m1\u001b[0m\u001b[1;33m]\u001b[0m\u001b[1;33m[\u001b[0m\u001b[0mi\u001b[0m\u001b[1;33m]\u001b[0m \u001b[1;33m*\u001b[0m \u001b[0mf\u001b[0m\u001b[1;33m(\u001b[0m\u001b[1;33m(\u001b[0m\u001b[0ma\u001b[0m \u001b[1;33m+\u001b[0m \u001b[0mb\u001b[0m\u001b[1;33m)\u001b[0m \u001b[1;33m/\u001b[0m \u001b[1;36m2\u001b[0m \u001b[1;33m+\u001b[0m \u001b[1;33m(\u001b[0m\u001b[1;33m(\u001b[0m\u001b[0mb\u001b[0m \u001b[1;33m-\u001b[0m \u001b[0ma\u001b[0m\u001b[1;33m)\u001b[0m \u001b[1;33m/\u001b[0m \u001b[1;36m2\u001b[0m\u001b[1;33m)\u001b[0m \u001b[1;33m*\u001b[0m \u001b[0mt\u001b[0m\u001b[1;33m[\u001b[0m\u001b[0mn\u001b[0m\u001b[1;33m-\u001b[0m\u001b[1;36m1\u001b[0m\u001b[1;33m]\u001b[0m\u001b[1;33m[\u001b[0m\u001b[0mi\u001b[0m\u001b[1;33m]\u001b[0m\u001b[1;33m,\u001b[0m \u001b[0mm\u001b[0m\u001b[1;33m)\u001b[0m\u001b[1;33m\u001b[0m\u001b[1;33m\u001b[0m\u001b[0m\n\u001b[1;32m----> 7\u001b[1;33m              for i in range(n)])\n\u001b[0m\u001b[0;32m      8\u001b[0m \u001b[1;33m\u001b[0m\u001b[0m\n\u001b[0;32m      9\u001b[0m \u001b[0mt\u001b[0m\u001b[1;33m=\u001b[0m\u001b[1;36m0\u001b[0m\u001b[1;33m\u001b[0m\u001b[1;33m\u001b[0m\u001b[0m\n",
      "\u001b[1;31mTypeError\u001b[0m: 'int' object is not subscriptable"
     ]
    }
   ],
   "source": []
  },
  {
   "cell_type": "markdown",
   "metadata": {},
   "source": [
    "<img src=\"8.jpg\"/>\n",
    "<img src=\"9.jpg\"/>"
   ]
  },
  {
   "cell_type": "code",
   "execution_count": null,
   "metadata": {},
   "outputs": [],
   "source": []
  }
 ],
 "metadata": {
  "kernelspec": {
   "display_name": "Python 3",
   "language": "python",
   "name": "python3"
  },
  "language_info": {
   "codemirror_mode": {
    "name": "ipython",
    "version": 3
   },
   "file_extension": ".py",
   "mimetype": "text/x-python",
   "name": "python",
   "nbconvert_exporter": "python",
   "pygments_lexer": "ipython3",
   "version": "3.7.3"
  }
 },
 "nbformat": 4,
 "nbformat_minor": 2
}
