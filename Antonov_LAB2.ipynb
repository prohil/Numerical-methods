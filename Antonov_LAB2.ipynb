{
 "cells": [
  {
   "cell_type": "code",
   "execution_count": 2,
   "metadata": {},
   "outputs": [
    {
     "name": "stderr",
     "output_type": "stream",
     "text": [
      "C:\\Anaconda\\lib\\site-packages\\ipykernel_launcher.py:15: MatplotlibDeprecationWarning: numpy.arange\n",
      "  from ipykernel import kernelapp as app\n"
     ]
    },
    {
     "data": {
      "image/png": "[encoded data removed]",
      "text/plain": [
       "<Figure size 432x288 with 1 Axes>"
      ]
     },
     "metadata": {
      "needs_background": "light"
     },
     "output_type": "display_data"
    },
    {
     "name": "stdout",
     "output_type": "stream",
     "text": [
      "Iterations for bisection method: 18\n",
      "Bisection method: -0.5372753143310547\n",
      "Iterations for newtons method: 2\n",
      "Newtons method -0.5372744491741096\n"
     ]
    }
   ],
   "source": [
    "#Вариант 1\n",
    "#Задачи 2.2.1, 2.10.1\n",
    "#Антонов Алексей\n",
    "\n",
    "import math\n",
    "from matplotlib import mlab\n",
    "import matplotlib.pyplot as plt\n",
    "from sympy import *\n",
    "import pandas as pd\n",
    "\n",
    "def plot():\n",
    "    \"\"\"\n",
    "    Draw the graph of function\n",
    "    \"\"\"\n",
    "    xmin = -2.0\n",
    "    xmax = 2.0\n",
    "    dx = 0.01\n",
    "    # Создадим список координат по оси X на отрезке [-xmin; xmax], включая концы\n",
    "    xlist = mlab.frange (xmin, xmax, dx)\n",
    "    # Вычислим значение функции в заданных точках\n",
    "    ylist = [func(x) for x in xlist]\n",
    "    x1,y1 = [-2, 2], [0, 0]\n",
    "    plt.grid()\n",
    "    plt.plot(x1, y1)\n",
    "    plt.plot (xlist, ylist)\n",
    "    plt.show()\n",
    "\n",
    "def bisection_method (begin, end, eps): \n",
    "    \"\"\"\n",
    "    Find a positive root by bisection method\n",
    "    \"\"\"\n",
    "    half = half_range(begin, end)\n",
    "    count = 0\n",
    "    for i in range(1, 100):\n",
    "        if((end - begin) / 2 > eps):\n",
    "            count += 1\n",
    "            half = half_range(begin, end)\n",
    "            mean = begin + half\n",
    "            if (func(begin) * func(mean) < 0):\n",
    "                end = mean\n",
    "            else:\n",
    "                begin = mean\n",
    "    print(\"Iterations for bisection method:\", count)\n",
    "    return mean\n",
    "\n",
    "def newtons_method (begin, end, eps):\n",
    "    \"\"\"\n",
    "    Find a positive root by Newton's method\n",
    "    \"\"\"\n",
    "    x_next = lambda x: x - func(x) / derivative(x)\n",
    "    count = 0\n",
    "    x_0 = (begin + end) / 2\n",
    "    x_n = x_next(x_0)\n",
    "    for i in range(1, 100):\n",
    "        if(abs(x_n - x_0) > eps):\n",
    "            x_0 = x_n\n",
    "            x_n = x_next(x_n)\n",
    "            count += 1\n",
    "    print(\"Iterations for newtons method:\", count)\n",
    "    return x_n\n",
    "\n",
    "func = lambda x: math.exp(-x) - 2 + x ** 2 \n",
    "derivative = lambda x: 2 * x - math.exp(-x) #deriviate of func\n",
    "half_range = lambda begin, end: (end - begin) / 2\n",
    "\n",
    "plot()\n",
    "\n",
    "eps = 10 ** (-6)\n",
    "begin = -0.75\n",
    "end = -0.25\n",
    "\n",
    "print(\"Bisection method:\", bisection_method(begin, end, eps))\n",
    "print(\"Newtons method\", newtons_method(begin, end, eps))"
   ]
  },
  {
   "cell_type": "code",
   "execution_count": 144,
   "metadata": {},
   "outputs": [
    {
     "name": "stdout",
     "output_type": "stream",
     "text": [
      "x                    y              \n",
      "1                    1.1999998688697815\n",
      "1.5                  1.1999998688697815\n",
      "2.0                  0.112319552898407\n",
      "2.5                  0.13203471899032593\n",
      "3.0                  0.15104361772537234\n",
      "3.5                  0.1694005370140076\n",
      "4.0                  0.18715268373489374\n",
      "4.5                  0.20434280633926394\n",
      "5.0                  0.2210081458091736\n"
     ]
    },
    {
     "data": {
      "image/png": "[encoded data removed]",
      "text/plain": [
       "<Figure size 648x504 with 1 Axes>"
      ]
     },
     "metadata": {
      "needs_background": "light"
     },
     "output_type": "display_data"
    }
   ],
   "source": [
    "def bisection_method_x_y (begin, end, eps, x): \n",
    "    \"\"\"\n",
    "    Find a positive root by bisection method for two arguments function\n",
    "    \"\"\"\n",
    "    half = half_range(begin, end)\n",
    "    if(function(x, begin) == 0):\n",
    "        return begin\n",
    "    if(function(x, end) == 0):\n",
    "        return end\n",
    "    for i in range(1, 100):\n",
    "        if((end - begin) / 2 > eps):\n",
    "            half = half_range(begin, end)\n",
    "            mean = begin + half\n",
    "            if (function(x, begin) * function(x, mean) < 0):\n",
    "                end = mean\n",
    "            else:\n",
    "                begin = mean\n",
    "    return mean\n",
    "\n",
    "function = lambda x, y: math.sinh( y * math.exp(y) - x / 20) + math.atan(20 * y * math.exp(y) - x) - 0.5\n",
    "\n",
    "begin = 0.1\n",
    "end = 1.2\n",
    "eps = 10 ** (-7)\n",
    "\n",
    "arr = {}\n",
    "i = 1\n",
    "while i <= 5:\n",
    "    arr[i] = bisection_method_x_y(begin, end, eps, i)\n",
    "    i += 0.5\n",
    "\n",
    "# repackage data into array-like for matplotlib \n",
    "data = {\"x\":[], \"y\":[]}\n",
    "for label, coord in arr.items():\n",
    "    data[\"x\"] = arr.keys()\n",
    "    data[\"y\"] = arr.values()\n",
    "\n",
    "# display scatter plot data\n",
    "plt.figure(figsize = (9, 7))\n",
    "plt.title('Scatter Plot', fontsize = 20)\n",
    "plt.xlabel('x', fontsize = 15)\n",
    "plt.ylabel('y', fontsize = 15)\n",
    "plt.scatter(data[\"x\"], data[\"y\"], marker = 'o')\n",
    "\n",
    "#print table\n",
    "print(\"{:<20} {:<15}\".format('x','y')) \n",
    "for value in arr.items():\n",
    "    name, val = value\n",
    "    print(\"{:<20} {:<15}\".format(name, val))"
   ]
  }
 ],
 "metadata": {
  "kernelspec": {
   "display_name": "Python 3",
   "language": "python",
   "name": "python3"
  },
  "language_info": {
   "codemirror_mode": {
    "name": "ipython",
    "version": 3
   },
   "file_extension": ".py",
   "mimetype": "text/x-python",
   "name": "python",
   "nbconvert_exporter": "python",
   "pygments_lexer": "ipython3",
   "version": "3.7.2"
  }
 },
 "nbformat": 4,
 "nbformat_minor": 2
}
