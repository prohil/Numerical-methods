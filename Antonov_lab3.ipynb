{
 "cells": [
  {
   "cell_type": "code",
   "execution_count": 152,
   "metadata": {},
   "outputs": [
    {
     "name": "stdout",
     "output_type": "stream",
     "text": [
      "My own function: [ 0.48707708 -0.69111259  0.78559889 -1.60128553  1.603179   -0.62212679].\n",
      "Np.linalg function: [ 0.48707708 -0.69111259  0.78559889 -1.60128553  1.603179   -0.62212679].\n",
      "Cond A: 4973.555315570857.\n",
      "Vector d: [0.00136902 0.00594842 0.03081389 0.0540004  0.07937645 0.03151214].\n"
     ]
    },
    {
     "data": {
      "image/png": "[encoded data removed]",
      "text/plain": [
       "<Figure size 432x288 with 1 Axes>"
      ]
     },
     "metadata": {
      "needs_background": "light"
     },
     "output_type": "display_data"
    },
    {
     "name": "stdout",
     "output_type": "stream",
     "text": [
      "The error with the greatest impact (practical) is 0.07937644813653003.\n",
      "Theoretical error: 4.973555315570857.\n",
      "Theoretical error more than practical\n"
     ]
    }
   ],
   "source": [
    "import numpy as np\n",
    "import matplotlib.pyplot as plt\n",
    "import math\n",
    "\n",
    "#Вариант 1\n",
    "#Задачи 3.1.1, 3.5.1, 3.10.1 \n",
    "#Антонов Алексей\n",
    "\n",
    "#3.1.1\n",
    "N = 1\n",
    "n = 6\n",
    "\n",
    "def Zeroing_column(arr, x, i, j):\n",
    "    temp = arr[i, j] / arr[j, j]\n",
    "    arr[i] -= (arr[j] * temp)\n",
    "    x[i] -= (x[j] * temp)\n",
    "    #print(arr)\n",
    "    #print(x)\n",
    "\n",
    "def Gauss_method (A, b):\n",
    "    \n",
    "    arr = np.copy(A)\n",
    "    x = np.copy(b)\n",
    "    \n",
    "    #print(\"Front path:\")\n",
    "    [[Zeroing_column(arr, x, i, j) for i in range(j + 1, n)] for j in range(n)]  \n",
    "    #print(\"Reverse path:\")\n",
    "    [[Zeroing_column(arr, x, i, j) for i in range(j - 1, -1, -1)] for j in range(n - 1, -1, -1)] \n",
    "    \n",
    "    #result vector\n",
    "    for i in range (n):\n",
    "        x[i] /= arr[i, i]\n",
    "    \n",
    "    return x\n",
    "\n",
    "def Create_D_vect(x, b, eps):\n",
    "    d = np.zeros(n)\n",
    "    for i in range(n):\n",
    "        temp_b = np.copy(b)\n",
    "        temp_b[i] += eps\n",
    "        x_i = np.linalg.solve(A, temp_b)\n",
    "        d[i] = max(x - x_i) / max(x)\n",
    "    return d\n",
    "\n",
    "c_ij = lambda i, j, N: 0.1 * N * (i + 1) * (j + 1)\n",
    "function = lambda i, j, N: 15 / (4 * c_ij(i, j, N) ** 5 + 6 * c_ij(i, j, N) + 1)\n",
    "\n",
    "A = np.array([[function(i, j, N) for j in range(n)] for i in range(n)])\n",
    "b = np.array([float(N) for i in range(n)])\n",
    "\n",
    "x1 = Gauss_method(A, b)\n",
    "eps = 10 ** (-3)\n",
    "x2 = np.linalg.solve(A, b)\n",
    "cond = np.linalg.cond(A)\n",
    "d = Create_D_vect(x1, b, eps)\n",
    "\n",
    "print(\"My own function: {}.\".format(x1))\n",
    "print(\"Np.linalg function: {}.\".format(x2))\n",
    "print(\"Cond A: {}.\".format(cond))\n",
    "print(\"Vector d: {}.\".format(d))\n",
    "plt.bar(np.arange(1, n + 1), d)\n",
    "plt.show()\n",
    "print(\"The error with the greatest impact (practical) is {}.\".format(max(d)))\n",
    "print(\"Theoretical error: {}.\".format(cond * eps))\n",
    "print(\"Theoretical error \" + (\"less\" if max(d) >= cond * eps else \"more\") + \" than practical\")\n",
    "#Потому что теоретическая погрешность не вычисляется с должной точностью"
   ]
  },
  {
   "cell_type": "code",
   "execution_count": 190,
   "metadata": {},
   "outputs": [
    {
     "name": "stdout",
     "output_type": "stream",
     "text": [
      "Vector y: \n",
      "[  0.84515425   4.22376539   7.59755811  10.96414293  14.32115324\n",
      "  17.66625256  20.99714164  24.31156522  27.60731865  30.88225408\n",
      "  34.13428633  37.36139843  40.56164665  43.73316523  46.87417052\n",
      "  49.98296477  53.05793939  56.09757774  59.10045744  62.06525223\n",
      "  64.9907333   67.87577021  70.71933135  73.52048392  76.27839358\n",
      "  78.99232364  81.6616339   84.28577912  86.86430724  89.39685721\n",
      "  91.88315662  94.32301904  96.71634125  99.06310013 101.36334952\n",
      " 103.6172169  105.8249     107.98666321 110.10283415 112.17379996]\n",
      "Vector x:\n",
      "[-0.61254795 -0.351742   -0.09125235  0.16892155  0.4287803   0.68832446\n",
      "  0.94755461  1.2064713   1.46507512  1.72336662  1.98134638  2.23901496\n",
      "  2.49637291  2.75342081  3.0101592   3.26658866  3.52270973  3.77852298\n",
      "  4.03402896  4.28922821  4.5441213   4.79870877  5.05299118  5.30696906\n",
      "  5.56064298  5.81401346  6.06708107  6.31984633  6.57230979  6.824472\n",
      "  7.07633349  7.32789479  7.57915645  7.830119    8.08078297  8.3311489\n",
      "  8.58121731  8.83098874  9.08046372  9.32964277]\n",
      "Solve:\n",
      "[-0.61254795 -0.351742   -0.09125235  0.16892155  0.4287803   0.68832446\n",
      "  0.94755461  1.2064713   1.46507512  1.72336662  1.98134638  2.23901496\n",
      "  2.49637291  2.75342081  3.0101592   3.26658866  3.52270973  3.77852298\n",
      "  4.03402896  4.28922821  4.5441213   4.79870877  5.05299118  5.30696906\n",
      "  5.56064298  5.81401346  6.06708107  6.31984633  6.57230979  6.824472\n",
      "  7.07633349  7.32789479  7.57915645  7.830119    8.08078297  8.3311489\n",
      "  8.58121731  8.83098874  9.08046372  9.32964277]\n"
     ]
    }
   ],
   "source": [
    "#3.5.1\n",
    "n = 40\n",
    "m = 10\n",
    "\n",
    "function = lambda i, j: n + m ** 2 + j / m + i / n if i == j else (i + j) / (m + n)\n",
    "\n",
    "A = np.array([[function(i, j) for j in range(n)] for i in range(n)])\n",
    "b = np.array([(n * i + m) for i in range(n)])\n",
    "\n",
    "L = np.linalg.cholesky(A)\n",
    "L_T = L.transpose()\n",
    "#L * y = b, L_T * x = y\n",
    "y = np.linalg.solve(L, b)\n",
    "x = np.linalg.solve(L_T, y)\n",
    "\n",
    "print(\"Vector y: \")\n",
    "print(y)\n",
    "print(\"Vector x:\")\n",
    "print(x)\n",
    "print(\"Solve:\")\n",
    "print (np.linalg.solve(A, b))"
   ]
  },
  {
   "cell_type": "code",
   "execution_count": 203,
   "metadata": {},
   "outputs": [
    {
     "name": "stdout",
     "output_type": "stream",
     "text": [
      "[[31.6227766   0.          0.          0.          0.        ]\n",
      " [ 0.03162278 31.62276079  0.          0.          0.        ]\n",
      " [ 0.          0.03162279 31.62276079  0.          0.        ]\n",
      " [ 0.          0.          0.03162279 31.62276079  0.        ]\n",
      " [ 0.          0.          0.          0.03162279 31.62276079]]\n",
      "[[1000.    1.    0.    1.    0.]\n",
      " [   1. 1000.    1.    0.    1.]\n",
      " [   0.    1. 1000.    1.    0.]\n",
      " [   0.    0.    1. 1000.    1.]\n",
      " [   0.    0.    0.    1. 1000.]]\n",
      "Vector y: \n"
     ]
    }
   ],
   "source": [
    "#3.10.1\n",
    "#на главной диагонали элементы равны 1000, на первой\n",
    "#наддиагонали элементы равны 1, на 3 наддиагонали\n",
    "#элементы равны 1, на 1 поддиагонали элементы равны 1\n",
    "\n",
    "n = 5\n",
    "\n",
    "def function(i, j):\n",
    "    if (i == j):\n",
    "        return 1000.0;\n",
    "    if (abs(i - j) == 1):\n",
    "        return 1.0;\n",
    "    if (j - i == 3):\n",
    "        return 1.0\n",
    "    return 0\n",
    "\n",
    "A = np.array([[function(i, j) for j in range(n)] for i in range(n)])\n",
    "b = np.array([((i + 1) * math.exp(18 / (i + 1))) for i in range(n)])\n",
    "\n",
    "y, alpha, gamma, betta = np.zeros(n), np.zeros(n), np.zeros(n), np.zeros(n)\n",
    "\n",
    "L = np.linalg.cholesky(A)\n",
    "print(L)\n",
    "\n",
    "#y[0] = A[0][0]\n",
    "#alpha[0] = -A[0][1] / y[0]\n",
    "#gamma[0] = -A[0][3] / y[0]\n",
    "#betta[0] = b[0] / y[0]\n",
    "\n",
    "#for i in range(1, n):\n",
    "#    alpha[i] = -A[i][i] / y[i - 1]\n",
    "#    y[i] = b[i]\n",
    "\n",
    "print (A)\n",
    "print(\"Vector y: \")\n",
    "\n"
   ]
  }
 ],
 "metadata": {
  "kernelspec": {
   "display_name": "Python 3",
   "language": "python",
   "name": "python3"
  },
  "language_info": {
   "codemirror_mode": {
    "name": "ipython",
    "version": 3
   },
   "file_extension": ".py",
   "mimetype": "text/x-python",
   "name": "python",
   "nbconvert_exporter": "python",
   "pygments_lexer": "ipython3",
   "version": "3.7.2"
  }
 },
 "nbformat": 4,
 "nbformat_minor": 2
}
